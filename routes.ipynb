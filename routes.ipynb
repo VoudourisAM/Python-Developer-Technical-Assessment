{
 "cells": [
  {
   "cell_type": "markdown",
   "id": "157f2e4d",
   "metadata": {},
   "source": [
    "---\n",
    "### Import Libraries\n",
    "---"
   ]
  },
  {
   "cell_type": "code",
   "execution_count": 1,
   "id": "35a84ca8",
   "metadata": {},
   "outputs": [
    {
     "ename": "ImportError",
     "evalue": "cannot import name 'TaskSchema' from 'models' (C:\\Users\\voudo\\OneDrive\\Υπολογιστής\\THECUBE_Python Developer Technical Assessment\\models.py)",
     "output_type": "error",
     "traceback": [
      "\u001b[31m---------------------------------------------------------------------------\u001b[39m",
      "\u001b[31mImportError\u001b[39m                               Traceback (most recent call last)",
      "\u001b[36mCell\u001b[39m\u001b[36m \u001b[39m\u001b[32mIn[1]\u001b[39m\u001b[32m, line 3\u001b[39m\n\u001b[32m      1\u001b[39m \u001b[38;5;28;01mfrom\u001b[39;00m\u001b[38;5;250m \u001b[39m\u001b[34;01mflask\u001b[39;00m\u001b[38;5;250m \u001b[39m\u001b[38;5;28;01mimport\u001b[39;00m Blueprint, request, jsonify\n\u001b[32m      2\u001b[39m \u001b[38;5;28;01mfrom\u001b[39;00m\u001b[38;5;250m \u001b[39m\u001b[34;01mapp\u001b[39;00m\u001b[38;5;250m \u001b[39m\u001b[38;5;28;01mimport\u001b[39;00m db\n\u001b[32m----> \u001b[39m\u001b[32m3\u001b[39m \u001b[38;5;28;01mfrom\u001b[39;00m\u001b[38;5;250m \u001b[39m\u001b[34;01mmodels\u001b[39;00m\u001b[38;5;250m \u001b[39m\u001b[38;5;28;01mimport\u001b[39;00m Task, TaskSchema, StatusEnum, PriorityEnum\n",
      "\u001b[31mImportError\u001b[39m: cannot import name 'TaskSchema' from 'models' (C:\\Users\\voudo\\OneDrive\\Υπολογιστής\\THECUBE_Python Developer Technical Assessment\\models.py)"
     ]
    }
   ],
   "source": [
    "from flask import Blueprint, request, jsonify\n",
    "from app import db\n",
    "from models import Task, TaskSchema, StatusEnum, PriorityEnum"
   ]
  },
  {
   "cell_type": "markdown",
   "id": "090bc020",
   "metadata": {},
   "source": [
    "---\n",
    "### routes\n",
    "---"
   ]
  },
  {
   "cell_type": "code",
   "execution_count": null,
   "id": "e371782e",
   "metadata": {},
   "outputs": [],
   "source": [
    "tasks_bp = Blueprint(\"tasks_bp\", __name__)\n",
    "task_schema = TaskSchema()\n",
    "tasks_schema = TaskSchema(many=True)\n",
    "\n",
    "@tasks_bp.route(\"/\", methods=[\"GET\"])\n",
    "def get_tasks():\n",
    "    status = request.args.get(\"status\")\n",
    "    priority = request.args.get(\"priority\")\n",
    "    sort_by = request.args.get(\"sort_by\", \"created_at\")\n",
    "    order = request.args.get(\"order\", \"asc\")\n",
    "\n",
    "    query = Task.query\n",
    "\n",
    "    if status:\n",
    "        query = query.filter_by(status=status)\n",
    "    if priority:\n",
    "        query = query.filter_by(priority=priority)\n",
    "\n",
    "    if order == \"desc\":\n",
    "        query = query.order_by(db.desc(getattr(Task, sort_by)))\n",
    "    else:\n",
    "        query = query.order_by(db.asc(getattr(Task, sort_by)))\n",
    "\n",
    "    tasks = query.all()\n",
    "    return jsonify(tasks_schema.dump(tasks)), 200\n",
    "\n",
    "\n",
    "@tasks_bp.route(\"/<int:id>\", methods=[\"GET\"])\n",
    "def get_task(id):\n",
    "    task = Task.query.get(id)\n",
    "    if not task:\n",
    "        return jsonify({\"error\": \"Task not found\"}), 404\n",
    "    return task_schema.jsonify(task)\n",
    "\n",
    "\n",
    "@tasks_bp.route(\"/\", methods=[\"POST\"])\n",
    "def create_task():\n",
    "    data = request.get_json()\n",
    "    if not data or \"title\" not in data:\n",
    "        return jsonify({\"error\": \"Title is required\"}), 400\n",
    "\n",
    "    new_task = Task(\n",
    "        title=data[\"title\"],\n",
    "        description=data.get(\"description\", \"\"),\n",
    "        status=data.get(\"status\", \"todo\"),\n",
    "        priority=data.get(\"priority\", \"medium\"),\n",
    "    )\n",
    "\n",
    "    db.session.add(new_task)\n",
    "    db.session.commit()\n",
    "\n",
    "    return task_schema.jsonify(new_task), 201\n",
    "\n",
    "\n",
    "@tasks_bp.route(\"/<int:id>\", methods=[\"PUT\"])\n",
    "def update_task(id):\n",
    "    task = Task.query.get(id)\n",
    "    if not task:\n",
    "        return jsonify({\"error\": \"Task not found\"}), 404\n",
    "\n",
    "    data = request.get_json()\n",
    "\n",
    "    for field in [\"title\", \"description\", \"status\", \"priority\"]:\n",
    "        if field in data:\n",
    "            setattr(task, field, data[field])\n",
    "\n",
    "    db.session.commit()\n",
    "    return task_schema.jsonify(task), 200\n",
    "\n",
    "\n",
    "@tasks_bp.route(\"/<int:id>\", methods=[\"DELETE\"])\n",
    "def delete_task(id):\n",
    "    task = Task.query.get(id)\n",
    "    if not task:\n",
    "        return jsonify({\"error\": \"Task not found\"}), 404\n",
    "\n",
    "    db.session.delete(task)\n",
    "    db.session.commit()\n",
    "    return jsonify({\"message\": \"Task deleted successfully\"}), 200"
   ]
  }
 ],
 "metadata": {
  "kernelspec": {
   "display_name": "Python 3 (ipykernel)",
   "language": "python",
   "name": "python3"
  },
  "language_info": {
   "codemirror_mode": {
    "name": "ipython",
    "version": 3
   },
   "file_extension": ".py",
   "mimetype": "text/x-python",
   "name": "python",
   "nbconvert_exporter": "python",
   "pygments_lexer": "ipython3",
   "version": "3.13.7"
  }
 },
 "nbformat": 4,
 "nbformat_minor": 5
}
