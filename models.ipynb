{
 "cells": [
  {
   "cell_type": "markdown",
   "id": "e245b150",
   "metadata": {},
   "source": [
    "---\n",
    "### Import Libraries\n",
    "---"
   ]
  },
  {
   "cell_type": "code",
   "execution_count": 1,
   "id": "00916051",
   "metadata": {},
   "outputs": [],
   "source": [
    "from flask_sqlalchemy import SQLAlchemy\n",
    "from datetime import datetime"
   ]
  },
  {
   "cell_type": "markdown",
   "id": "231d4fa2",
   "metadata": {},
   "source": [
    "---\n",
    "### models\n",
    "---"
   ]
  },
  {
   "cell_type": "code",
   "execution_count": 4,
   "id": "f4201034",
   "metadata": {},
   "outputs": [],
   "source": [
    "db = SQLAlchemy()\n",
    "\n",
    "class Task(db.Model):\n",
    "    id = db.Column(db.Integer, primary_key=True)\n",
    "    title = db.Column(db.String(200), nullable=False)\n",
    "    description = db.Column(db.Text)\n",
    "    status = db.Column(db.String(20), default=\"todo\")  # todo, in_progress, done\n",
    "    priority = db.Column(db.String(20), default=\"medium\")  # low, medium, high\n",
    "    created_at = db.Column(db.DateTime, default=datetime.utcnow)\n",
    "    updated_at = db.Column(db.DateTime, default=datetime.utcnow, onupdate=datetime.utcnow)\n",
    "\n",
    "    def to_dict(self):\n",
    "        return {\n",
    "            \"id\": self.id,\n",
    "            \"title\": self.title,\n",
    "            \"description\": self.description,\n",
    "            \"status\": self.status,\n",
    "            \"priority\": self.priority,\n",
    "            \"created_at\": self.created_at.isoformat(),\n",
    "            \"updated_at\": self.updated_at.isoformat(),\n",
    "        }"
   ]
  },
  {
   "cell_type": "code",
   "execution_count": null,
   "id": "195f3b30",
   "metadata": {},
   "outputs": [],
   "source": []
  }
 ],
 "metadata": {
  "kernelspec": {
   "display_name": "Python 3 (ipykernel)",
   "language": "python",
   "name": "python3"
  },
  "language_info": {
   "codemirror_mode": {
    "name": "ipython",
    "version": 3
   },
   "file_extension": ".py",
   "mimetype": "text/x-python",
   "name": "python",
   "nbconvert_exporter": "python",
   "pygments_lexer": "ipython3",
   "version": "3.13.7"
  }
 },
 "nbformat": 4,
 "nbformat_minor": 5
}
