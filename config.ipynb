{
 "cells": [
  {
   "cell_type": "markdown",
   "id": "71890743",
   "metadata": {},
   "source": [
    "---\n",
    "### Import Libraries\n",
    "---"
   ]
  },
  {
   "cell_type": "code",
   "execution_count": 1,
   "id": "9195fe1e",
   "metadata": {},
   "outputs": [],
   "source": [
    "import os"
   ]
  },
  {
   "cell_type": "markdown",
   "id": "311f6e8d",
   "metadata": {},
   "source": [
    "---\n",
    "### config\n",
    "---"
   ]
  },
  {
   "cell_type": "code",
   "execution_count": 2,
   "id": "4bee3774",
   "metadata": {},
   "outputs": [],
   "source": [
    "# Παίρνει αυτόματα το path του φακέλου όπου βρίσκεται το αρχείο\n",
    "BASE_DIR = os.getcwd()  # παίρνει το τρέχον working directory\n",
    "\n",
    "class Config:\n",
    "    SQLALCHEMY_DATABASE_URI = f\"sqlite:///{os.path.join(BASE_DIR, 'tasks.db')}\"\n",
    "    SQLALCHEMY_TRACK_MODIFICATIONS = False"
   ]
  },
  {
   "cell_type": "code",
   "execution_count": null,
   "id": "4cdbd035",
   "metadata": {},
   "outputs": [],
   "source": []
  }
 ],
 "metadata": {
  "kernelspec": {
   "display_name": "Python 3 (ipykernel)",
   "language": "python",
   "name": "python3"
  },
  "language_info": {
   "codemirror_mode": {
    "name": "ipython",
    "version": 3
   },
   "file_extension": ".py",
   "mimetype": "text/x-python",
   "name": "python",
   "nbconvert_exporter": "python",
   "pygments_lexer": "ipython3",
   "version": "3.13.7"
  }
 },
 "nbformat": 4,
 "nbformat_minor": 5
}
